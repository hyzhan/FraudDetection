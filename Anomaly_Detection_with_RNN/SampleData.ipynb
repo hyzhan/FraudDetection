{
 "cells": [
  {
   "cell_type": "markdown",
   "metadata": {},
   "source": [
    "## Sample Data Generation\n",
    "\n",
    "This script generates artificial log files by simulating user activities \n",
    "\n",
    "The data is used to train and test different models (like an hidden markov model, recurrent neural networks and generative adversial networks to detect outliers / fraud in user transactional behavior. For example the employee usage of a CRM system to detect data theft or customer behavior in a online shop to sport fraudulent orders.\n",
    "\n",
    "Simulation is done via Markov Chain Monte Carlo Simulation.\n",
    "\n",
    "We define a set of possible activities like (start, end, action_1, ..., action_n) and a set of users. Each user belong to one of n classes (eg. normal behavior and fraudulent behavior). For each class we have a \n",
    "transition matrix giving the probabilities that a user perform a specific action given his previous action and his state.\n"
   ]
  },
  {
   "cell_type": "code",
   "execution_count": 10,
   "metadata": {},
   "outputs": [],
   "source": [
    "import os\n",
    "import numpy as np\n",
    "import pandas as pd"
   ]
  },
  {
   "cell_type": "code",
   "execution_count": 11,
   "metadata": {},
   "outputs": [],
   "source": [
    "# Configuration\n",
    "\n",
    "# first two actions need to be start and end\n",
    "actions = ['start', 'end', 'action_1', 'action_2', 'action_3', 'action_4', 'action_5']\n",
    "\n",
    "n_users = 200\n",
    "\n",
    "n_states = 2\n",
    "\n",
    "# Probability that a user is one of these states\n",
    "p_fraudulent_user = 0.02\n",
    "p_commit_fraud = 0.2\n",
    "\n",
    "p_states = [0.8, 0.2]\n",
    "\n",
    "n_activities_per_user_per_day = 200\n",
    "\n",
    "n_days = 1\n",
    "\n",
    "transitions = [\n",
    "    # Normal behavior Role 1\n",
    "    np.array([\n",
    "        [0.00, 0.00, 0.20, 0.20, 0.20, 0.20, 0.20],\n",
    "        [1.00, 0.00, 0.00, 0.00, 0.00, 0.00, 0.00],\n",
    "        [0.00, 0.01, 0.09, 0.30, 0.30, 0.15, 0.15],\n",
    "        [0.00, 0.60, 0.05, 0.10, 0.05, 0.05, 0.15],\n",
    "        [0.00, 0.50, 0.05, 0.25, 0.05, 0.10, 0.05],\n",
    "        [0.00, 0.60, 0.01, 0.10, 0.10, 0.10, 0.09],\n",
    "        [0.00, 0.60, 0.09, 0.10, 0.10, 0.10, 0.01],\n",
    "    ]),\n",
    "    # Normal behavior Role 2\n",
    "    np.array([\n",
    "        [0.00, 0.00, 0.20, 0.10, 0.10, 0.30, 0.30],\n",
    "        [1.00, 0.00, 0.00, 0.00, 0.00, 0.00, 0.00],\n",
    "        [0.00, 0.10, 0.20, 0.20, 0.20, 0.10, 0.20],\n",
    "        [0.00, 0.70, 0.05, 0.05, 0.05, 0.05, 0.10],\n",
    "        [0.00, 0.70, 0.05, 0.05, 0.05, 0.10, 0.05],\n",
    "        [0.00, 0.50, 0.01, 0.01, 0.01, 0.10, 0.37],\n",
    "        [0.00, 0.60, 0.09, 0.10, 0.10, 0.10, 0.01],\n",
    "    ]),\n",
    "]\n",
    "\n",
    "fraud_transitions = [\n",
    "    # Fraudulent Behavior\n",
    "    np.array([\n",
    "        [0.00, 0.00, 1.00, 0.00, 0.00, 0.00, 0.00],\n",
    "        [1.00, 0.00, 0.00, 0.00, 0.00, 0.00, 0.00],\n",
    "        [0.00, 0.20, 0.70, 0.025, 0.025, 0.025, 0.025],\n",
    "        [0.00, 0.40, 0.40, 0.05, 0.05, 0.05, 0.05],\n",
    "        [0.00, 0.40, 0.40, 0.05, 0.05, 0.05, 0.05],\n",
    "        [0.00, 0.50, 0.01, 0.01, 0.01, 0.10, 0.37],\n",
    "        [0.00, 0.60, 0.09, 0.10, 0.10, 0.10, 0.01],\n",
    "    ])\n",
    "]\n",
    "\n",
    "assert len(p_states)==n_states, 'Inconsitent number of states and state probs'\n",
    "assert np.sum(p_states)==1, 'State probs doesnt sum up to one'\n",
    "assert len(transitions)==n_states, 'Inconsitent number of transition matrixes and state'\n",
    "for i in range(n_states):\n",
    "    assert np.allclose(transitions[i].sum(), len(actions))\n",
    "    assert np.allclose(transitions[i].cumsum(axis=1)[:,-1],1)\n",
    "assert np.allclose(fraud_transitions[0].sum(), len(actions))\n",
    "assert np.allclose(fraud_transitions[0].cumsum(axis=1)[:,-1],1)"
   ]
  },
  {
   "cell_type": "code",
   "execution_count": 12,
   "metadata": {},
   "outputs": [],
   "source": [
    "# Simulation\n",
    "def simulate_markov_chain(transition_matrix, actions):\n",
    "    '''\n",
    "    Simulate a user session using the corresponding transition matrix\n",
    "    given the current user state\n",
    "    \n",
    "    Parameter:\n",
    "    \n",
    "        transitions : list of transition matrixes\n",
    "        state_id: int of the current user state\n",
    "        actions: list of all available actions\n",
    "        \n",
    "    Returns:\n",
    "    \n",
    "        list of artificial activities in one session\n",
    "    '''\n",
    "    activities = [actions[0]]\n",
    "    while activities[-1] != 'end':\n",
    "        prev_action = actions.index(activities[-1])\n",
    "        transition_probs = transition_matrix[prev_action]\n",
    "        next_action = np.random.choice(actions, size=1, p=transition_probs)[0]\n",
    "        activities.append(next_action)\n",
    "    return activities\n",
    "\n",
    "\n",
    "np.random.seed(42)\n",
    "log_data = []\n",
    "for user in range(n_users):\n",
    "    user_class = np.random.choice(np.arange(0, n_states), size=1, p=p_states)[0]\n",
    "    user_pot_fraud = np.random.binomial(1, p_fraudulent_user)\n",
    "    if user_pot_fraud == 0:\n",
    "        transitions_matrices = [transitions[user_class]]\n",
    "        probs = [1]\n",
    "    else:\n",
    "        transitions_matrices = [transitions[user_class], fraud_transitions[0]]\n",
    "        probs = [1-p_commit_fraud, p_commit_fraud]\n",
    "    for day in range(n_days):\n",
    "        commit_fraud = np.random.choice(np.arange(len(transitions_matrices)), size=n_activities_per_user_per_day, p=probs)\n",
    "        for fraud_flat in commit_fraud:\n",
    "            activities = simulate_markov_chain(transitions_matrices[fraud_flat], actions)\n",
    "            log_data.append((user, day, i, activities, user_class, user_pot_fraud, fraud_flat))"
   ]
  },
  {
   "cell_type": "code",
   "execution_count": 13,
   "metadata": {},
   "outputs": [],
   "source": [
    "logfile = pd.DataFrame(log_data, columns=('UserID', 'Day', 'UserSessionId', 'SessionActivity', 'UserRole', 'PotentialFraudster', 'FraudulentActivity'))"
   ]
  },
  {
   "cell_type": "code",
   "execution_count": 14,
   "metadata": {},
   "outputs": [
    {
     "data": {
      "text/plain": [
       "(40000, 7)"
      ]
     },
     "execution_count": 14,
     "metadata": {},
     "output_type": "execute_result"
    }
   ],
   "source": [
    "logfile.shape"
   ]
  },
  {
   "cell_type": "code",
   "execution_count": null,
   "metadata": {},
   "outputs": [],
   "source": [
    "logfile.to_pickle('./Data/logfile.pkl')"
   ]
  },
  {
   "cell_type": "code",
   "execution_count": null,
   "metadata": {},
   "outputs": [],
   "source": [
    "id2actions = np.array(['<pad>']+actions)\n",
    "np.save('./Data/id2action', id2actions)"
   ]
  },
  {
   "cell_type": "code",
   "execution_count": null,
   "metadata": {},
   "outputs": [],
   "source": [
    "%%bash\n",
    "\n",
    "cd Data\n",
    "ls -lisa"
   ]
  }
 ],
 "metadata": {
  "celltoolbar": "Slideshow",
  "kernelspec": {
   "display_name": "Python [conda env:anaconda]",
   "language": "python",
   "name": "conda-env-anaconda-py"
  },
  "language_info": {
   "codemirror_mode": {
    "name": "ipython",
    "version": 3
   },
   "file_extension": ".py",
   "mimetype": "text/x-python",
   "name": "python",
   "nbconvert_exporter": "python",
   "pygments_lexer": "ipython3",
   "version": "3.6.4"
  }
 },
 "nbformat": 4,
 "nbformat_minor": 2
}
